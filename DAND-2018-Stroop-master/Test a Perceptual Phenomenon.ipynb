{
 "cells": [
  {
   "cell_type": "markdown",
   "metadata": {},
   "source": [
    "### Analyzing the Stroop Effect\n",
    "Perform the analysis in the space below. Remember to follow [the instructions](https://docs.google.com/document/d/1-OkpZLjG_kX9J6LIQ5IltsqMzVWjh36QpnP2RYpVdPU/pub?embedded=True) and review the [project rubric](https://review.udacity.com/#!/rubrics/71/view) before submitting. Once you've completed the analysis and write up, download this file as a PDF or HTML file and submit in the final section of this lesson.\n",
    "\n",
    "\n",
    "# (1) What is the independent variable? What is the dependent variable?"
   ]
  },
  {
   "cell_type": "markdown",
   "metadata": {},
   "source": [
    "### Background\n",
    "\n",
    "*\"In [the] Stroop task, participants are presented with a list of words, with each word displayed in a color of ink. The participant’s task is to say out loud the color of the ink in which the word is printed. The task has two conditions: a congruent words condition, and an incongruent words condition. In the congruent words condition, the words being displayed are color words whose names match the colors in which they are printed\"*\n",
    "\n",
    "[Please click here for referenced information used in background](https://docs.google.com/document/d/1-OkpZLjG_kX9J6LIQ5IltsqMzVWjh36QpnP2RYpVdPU/pub?embedded=True)"
   ]
  },
  {
   "cell_type": "markdown",
   "metadata": {},
   "source": [
    "**Independent Variable**\n",
    "\n",
    "* The independent variable is the paradigm (i.e. Congruent or Incongruent).\n",
    "\n",
    "**Dependent variable**\n",
    "\n",
    "* The dependent variable is the time in seconds per individual to complete the Stroop task under congruent and incongruent paradigms (performed on independent occasions).  \n"
   ]
  },
  {
   "cell_type": "markdown",
   "metadata": {},
   "source": [
    "# (2) What is an appropriate set of hypotheses for this task? Specify your null and alternative hypotheses, and clearly define any notation used. Justify your choices."
   ]
  },
  {
   "cell_type": "markdown",
   "metadata": {},
   "source": [
    "### Null hypothesis:\n",
    "\n",
    "The null hypothesis states that the population parameters of the Stroop scores are equal under both congruent and incongruent paradigms.\n",
    "\n",
    "* $H_{0}$: $μ_{Congruent}$ =  $ μ_{Incongruent}$\n",
    "\n",
    "### Alternative hypothesis:\n",
    "\n",
    "The alternative hypothesis states that the population parameters of the Stroop scores are not equal when comparing congruent and incongruent paradigms.\n",
    "\n",
    "* $H_1$: $μ_{Congruent}$ $\\neq$ $μ_{Incongruent}$\n",
    "\n",
    "\n",
    "### Statistical test\n",
    "* To test if the alternative hypothesis is true, I will use mixed linear regression (this considers dependency and is used regularly with longitudinal data, for example from a clinical trial. In fact, paired Students t-test is a simple form of mixed linear regression/ANCOVA). \n",
    "\n",
    "\n",
    "### Glossary\n",
    "* $H_{0}$ : null hypothesis,\n",
    "* $H_1$ :alternative hypothesis.\n",
    "* μ: population mean for the Stroop scores obtained either under congruent or incongruent paradigms."
   ]
  },
  {
   "cell_type": "markdown",
   "metadata": {},
   "source": [
    "# (3) Report some descriptive statistics regarding this dataset. Include at least one measure of central tendency and at least one measure of variability. The name of the data file is 'stroopdata.csv'."
   ]
  },
  {
   "cell_type": "code",
   "execution_count": 23,
   "metadata": {},
   "outputs": [
    {
     "data": {
      "text/html": [
       "<div>\n",
       "<style>\n",
       "    .dataframe thead tr:only-child th {\n",
       "        text-align: right;\n",
       "    }\n",
       "\n",
       "    .dataframe thead th {\n",
       "        text-align: left;\n",
       "    }\n",
       "\n",
       "    .dataframe tbody tr th {\n",
       "        vertical-align: top;\n",
       "    }\n",
       "</style>\n",
       "<table border=\"1\" class=\"dataframe\">\n",
       "  <thead>\n",
       "    <tr style=\"text-align: right;\">\n",
       "      <th></th>\n",
       "      <th>Congruent</th>\n",
       "      <th>Incongruent</th>\n",
       "    </tr>\n",
       "  </thead>\n",
       "  <tbody>\n",
       "    <tr>\n",
       "      <th>0</th>\n",
       "      <td>12.079</td>\n",
       "      <td>19.278</td>\n",
       "    </tr>\n",
       "    <tr>\n",
       "      <th>1</th>\n",
       "      <td>16.791</td>\n",
       "      <td>18.741</td>\n",
       "    </tr>\n",
       "  </tbody>\n",
       "</table>\n",
       "</div>"
      ],
      "text/plain": [
       "   Congruent  Incongruent\n",
       "0     12.079       19.278\n",
       "1     16.791       18.741"
      ]
     },
     "execution_count": 23,
     "metadata": {},
     "output_type": "execute_result"
    }
   ],
   "source": [
    "#import modules,libraries,dataframe, and view first 5 files in dataframe\n",
    "import pandas as pd\n",
    "import numpy as np\n",
    "import statsmodels.api as sm\n",
    "import matplotlib as mpl\n",
    "import matplotlib.pyplot as plt\n",
    "import seaborn as sns\n",
    "sns.set(color_codes=True)\n",
    "%matplotlib inline\n",
    "sns.set_style('white')\n",
    "df= pd.read_csv(\"stroopdata.csv\")\n",
    "df.head(2)"
   ]
  },
  {
   "cell_type": "code",
   "execution_count": 3,
   "metadata": {},
   "outputs": [
    {
     "data": {
      "text/html": [
       "<div>\n",
       "<style>\n",
       "    .dataframe thead tr:only-child th {\n",
       "        text-align: right;\n",
       "    }\n",
       "\n",
       "    .dataframe thead th {\n",
       "        text-align: left;\n",
       "    }\n",
       "\n",
       "    .dataframe tbody tr th {\n",
       "        vertical-align: top;\n",
       "    }\n",
       "</style>\n",
       "<table border=\"1\" class=\"dataframe\">\n",
       "  <thead>\n",
       "    <tr style=\"text-align: right;\">\n",
       "      <th></th>\n",
       "      <th>Congruent</th>\n",
       "      <th>Incongruent</th>\n",
       "    </tr>\n",
       "  </thead>\n",
       "  <tbody>\n",
       "    <tr>\n",
       "      <th>count</th>\n",
       "      <td>24.000000</td>\n",
       "      <td>24.000000</td>\n",
       "    </tr>\n",
       "    <tr>\n",
       "      <th>mean</th>\n",
       "      <td>14.051125</td>\n",
       "      <td>22.015917</td>\n",
       "    </tr>\n",
       "    <tr>\n",
       "      <th>std</th>\n",
       "      <td>3.559358</td>\n",
       "      <td>4.797057</td>\n",
       "    </tr>\n",
       "    <tr>\n",
       "      <th>min</th>\n",
       "      <td>8.630000</td>\n",
       "      <td>15.687000</td>\n",
       "    </tr>\n",
       "    <tr>\n",
       "      <th>25%</th>\n",
       "      <td>11.895250</td>\n",
       "      <td>18.716750</td>\n",
       "    </tr>\n",
       "    <tr>\n",
       "      <th>50%</th>\n",
       "      <td>14.356500</td>\n",
       "      <td>21.017500</td>\n",
       "    </tr>\n",
       "    <tr>\n",
       "      <th>75%</th>\n",
       "      <td>16.200750</td>\n",
       "      <td>24.051500</td>\n",
       "    </tr>\n",
       "    <tr>\n",
       "      <th>max</th>\n",
       "      <td>22.328000</td>\n",
       "      <td>35.255000</td>\n",
       "    </tr>\n",
       "  </tbody>\n",
       "</table>\n",
       "</div>"
      ],
      "text/plain": [
       "       Congruent  Incongruent\n",
       "count  24.000000    24.000000\n",
       "mean   14.051125    22.015917\n",
       "std     3.559358     4.797057\n",
       "min     8.630000    15.687000\n",
       "25%    11.895250    18.716750\n",
       "50%    14.356500    21.017500\n",
       "75%    16.200750    24.051500\n",
       "max    22.328000    35.255000"
      ]
     },
     "execution_count": 3,
     "metadata": {},
     "output_type": "execute_result"
    }
   ],
   "source": [
    "df.describe()"
   ]
  },
  {
   "cell_type": "markdown",
   "metadata": {},
   "source": [
    "#### The average Stroop scores and standard deviations are as follows:\n",
    "\n",
    "Congruent paradigm: 14.05 (±3.56) seconds\n",
    "\n",
    "Incongruent paradigm: 22.02 (±4.80) seconds\n",
    "\n"
   ]
  },
  {
   "cell_type": "markdown",
   "metadata": {},
   "source": [
    "# (4) Provide one or two visualizations that show the distribution of the sample data. Write one or two sentences noting what you observe about the plot or plots."
   ]
  },
  {
   "cell_type": "code",
   "execution_count": 24,
   "metadata": {},
   "outputs": [
    {
     "data": {
      "image/png": "[encoded data removed]",
      "text/plain": [
       "<matplotlib.figure.Figure at 0x7f41aa3a0da0>"
      ]
     },
     "metadata": {},
     "output_type": "display_data"
    }
   ],
   "source": [
    "# Below is the code for a histogram output, relying on the matplotlib.axes.Axes.hist function\n",
    "a4_dims = (11.7, 8.27)\n",
    "fig, ax = plt.subplots(figsize=a4_dims)\n",
    "data = df['Congruent']\n",
    "data2 = df[\"Incongruent\"]\n",
    "bins = np.linspace(0, 40, endpoint=True)\n",
    "ax.hist(data, bins, alpha=0.4, rwidth=0.7, color=\"lightgreen\", label='Congruent paradigm')\n",
    "ax.hist(data2, bins, alpha=1.0, rwidth=0.5, color=\"lightblue\", label='Incongruent paradigm')\n",
    "ax.set_ylim([0, 6.0])\n",
    "ax.set_title(\"Graph 1\\n Distribution of Stroop scores for congruent and inconguent paradigms\", fontsize= 15)\n",
    "ax.spines['top'].set_visible(False)\n",
    "ax.spines['right'].set_visible(False)\n",
    "ax.spines['left'].set_visible(False)\n",
    "ax.set_xlabel(\"Stroop score \\n(seconds)\", fontsize=15)\n",
    "ax.set_yticklabels([])\n",
    "plt.legend(fontsize=11.9)\n",
    "plt.show();"
   ]
  },
  {
   "cell_type": "markdown",
   "metadata": {},
   "source": [
    "In Graph 1, we observe the distribution of the Stroop scores obtained relative to the paradigm used (i.e. Congruent [ lightgreen ], vs incongruent [ lightblue ]). Lower scores indicate that the participant took less time to complete the task. Participants under congruent paradigms requiered less time to complete the task, in comparison to scores obtained uner the incongruent paradigm. Most particpants under the congruent paradigm scored around 15 seconds, while under the incongruent paradigm scored just above 20 seconds. There are 2 outlier scores near 35 seconds in the incongruent paradigm (there were no outlier scores in the congruent paradigm) [ this is a visual analysis ]."
   ]
  },
  {
   "cell_type": "markdown",
   "metadata": {},
   "source": [
    "# (5)  Now, perform the statistical test and report your results. What is your confidence level or Type I error associated with your test? What is your conclusion regarding the hypotheses you set up? Did the results match up with your expectations? **Hint:**  Think about what is being measured on each individual, and what statistic best captures how an individual reacts in each environment."
   ]
  },
  {
   "cell_type": "code",
   "execution_count": 25,
   "metadata": {},
   "outputs": [
    {
     "data": {
      "text/html": [
       "<div>\n",
       "<style>\n",
       "    .dataframe thead tr:only-child th {\n",
       "        text-align: right;\n",
       "    }\n",
       "\n",
       "    .dataframe thead th {\n",
       "        text-align: left;\n",
       "    }\n",
       "\n",
       "    .dataframe tbody tr th {\n",
       "        vertical-align: top;\n",
       "    }\n",
       "</style>\n",
       "<table border=\"1\" class=\"dataframe\">\n",
       "  <thead>\n",
       "    <tr style=\"text-align: right;\">\n",
       "      <th></th>\n",
       "      <th>index</th>\n",
       "      <th>paradigm</th>\n",
       "      <th>vas</th>\n",
       "    </tr>\n",
       "  </thead>\n",
       "  <tbody>\n",
       "    <tr>\n",
       "      <th>0</th>\n",
       "      <td>1</td>\n",
       "      <td>0</td>\n",
       "      <td>12.079</td>\n",
       "    </tr>\n",
       "    <tr>\n",
       "      <th>1</th>\n",
       "      <td>1</td>\n",
       "      <td>1</td>\n",
       "      <td>19.278</td>\n",
       "    </tr>\n",
       "    <tr>\n",
       "      <th>2</th>\n",
       "      <td>2</td>\n",
       "      <td>0</td>\n",
       "      <td>16.791</td>\n",
       "    </tr>\n",
       "    <tr>\n",
       "      <th>3</th>\n",
       "      <td>2</td>\n",
       "      <td>1</td>\n",
       "      <td>18.741</td>\n",
       "    </tr>\n",
       "    <tr>\n",
       "      <th>4</th>\n",
       "      <td>3</td>\n",
       "      <td>0</td>\n",
       "      <td>9.564</td>\n",
       "    </tr>\n",
       "  </tbody>\n",
       "</table>\n",
       "</div>"
      ],
      "text/plain": [
       "   index  paradigm     vas\n",
       "0      1         0  12.079\n",
       "1      1         1  19.278\n",
       "2      2         0  16.791\n",
       "3      2         1  18.741\n",
       "4      3         0   9.564"
      ]
     },
     "execution_count": 25,
     "metadata": {},
     "output_type": "execute_result"
    }
   ],
   "source": [
    "# I pivoted the table in stata and will run a linear mixed effects model in python 3.\n",
    "# I am looking at pre- post- scores (i.e. Congruent-pre, Incongruent-post)\n",
    "# 0 refers to the Congruent paradigm and 1 refers to the incongruent paradigm in the paradigm column.\n",
    "# VAS refers to the Stroop score in seconds.\n",
    "# index is the participant identification.\n",
    "df1= pd.read_csv(\"stroopdata_pivot.csv\")\n",
    "df1.head() # used to preview the data after the pivot"
   ]
  },
  {
   "cell_type": "markdown",
   "metadata": {},
   "source": [
    "## Supporting material for mixed linear model\n",
    "\n",
    "### Linear mixed effects model\n",
    "\n",
    "*\"Linear Mixed Effects models are used for **regression analyses involving dependent data**. Such data arise when working with **longitudinal** and other study designs in which **multiple observations are made on each subject**. [...]\"*\n",
    "\n",
    "[Please click here for referenced information from statsmodel documentation ](http://www.statsmodels.org/dev/mixed_linear.html)"
   ]
  },
  {
   "cell_type": "code",
   "execution_count": 17,
   "metadata": {},
   "outputs": [
    {
     "name": "stdout",
     "output_type": "stream",
     "text": [
      "         Mixed Linear Model Regression Results\n",
      "=======================================================\n",
      "Model:            MixedLM Dependent Variable: vas      \n",
      "No. Observations: 48      Method:             REML     \n",
      "No. Groups:       24      Scale:              11.8333  \n",
      "Min. group size:  2       Likelihood:         -133.3391\n",
      "Max. group size:  2       Converged:          Yes      \n",
      "Mean group size:  2.0                                  \n",
      "-------------------------------------------------------\n",
      "             Coef.  Std.Err.   z    P>|z| [0.025 0.975]\n",
      "-------------------------------------------------------\n",
      "Intercept    14.051    0.862 16.297 0.000 12.361 15.741\n",
      "paradigm      7.965    0.993  8.021 0.000  6.018  9.911\n",
      "groups RE     6.007    1.446                           \n",
      "=======================================================\n",
      "\n"
     ]
    }
   ],
   "source": [
    "import statsmodels.formula.api as smf\n",
    "md = smf.mixedlm(\"vas ~ paradigm\", df1, groups=df1[\"index\"])\n",
    "mdf = md.fit()\n",
    "print(mdf.summary());"
   ]
  },
  {
   "cell_type": "markdown",
   "metadata": {},
   "source": [
    "The mixed linear regression model indicates that there is a significant difference between performing the Stroop test under congruent vs. incongruent paradigms.  In fact according to the model, a subject is likely to score up to 7.965 seconds more seconds during the incongruent paradigm, relative to the congruent paradigm. \n",
    "\n",
    "Summarized statistics for:\n",
    "z value= 8.021, p value: 0.000, beta coeficient: 7.965, 95% CI: 6.018-9.911"
   ]
  },
  {
   "cell_type": "code",
   "execution_count": 7,
   "metadata": {},
   "outputs": [
    {
     "data": {
      "image/png": "[encoded data removed]",
      "text/plain": [
       "<matplotlib.figure.Figure at 0x7f41aa37db38>"
      ]
     },
     "metadata": {},
     "output_type": "display_data"
    }
   ],
   "source": [
    "#To assist in the interpretation of the OLS regression above\n",
    "#Below is a linear regression graph with its respective scatter plot data\n",
    "#Linear regression plot\n",
    "x= df1['paradigm']\n",
    "y= df1['vas']\n",
    "a4_dims = (11.7, 8.27)\n",
    "fig, ax = plt.subplots(figsize=a4_dims)\n",
    "m,b = np.polyfit(x, y, 1)\n",
    "fit = np.polyfit(x,y,1)\n",
    "fit_fn = np.poly1d(fit) \n",
    "plt.plot(x,y, 'yo', x, fit_fn(x), '--k', color=\"pink\", alpha=0.4, label=\"Lnear regression\")\n",
    "plt.xlim(-0.5, 1.5)\n",
    "plt.ylim(0, 40)\n",
    "plt.ylabel('\\n Time in seconds to complete task', fontsize= 15)\n",
    "plt.xlabel(' \\n Blue is congruent paradigm and black is incongruent paradigm', fontsize=17)\n",
    "#Scatter plot of congruent paradigm scores superimposed\n",
    "df2=pd.read_csv(\"stroopdata_group0.csv\") \n",
    "x0=df2['Group']\n",
    "y0=df2['Congruent']\n",
    "plt.scatter(x0, y0, color=\"blue\", alpha=1.0, label='Congruent paradigm')\n",
    "#Scatter plot of incongruent paradigm scores superimposed\n",
    "df3=pd.read_csv(\"stroopdata_group1.csv\") \n",
    "x1=df3['Group']\n",
    "y1=df3['Incongruent']\n",
    "plt.scatter(x1, y1, color=\"black\", alpha=1.0, label='Incongruent paradigm')\n",
    "#axis removal\n",
    "ax.set_xticklabels([])\n",
    "ax.spines['top'].set_visible(False)\n",
    "ax.spines['right'].set_visible(False)\n",
    "ax.spines['bottom'].set_visible(True)\n",
    "#plot label and graphs\n",
    "ax.set_title(\"Graph 2\\n Linear regression of Stroop scores \", fontsize= 15)\n",
    "plt.show();"
   ]
  },
  {
   "cell_type": "raw",
   "metadata": {},
   "source": [
    "In Graph 2, we observe that the time to complete the task is substantially longer in the incongruent task, relative to the congruent task. We also observe the linear regression representation of the OLS fitted line in the previous section."
   ]
  },
  {
   "cell_type": "markdown",
   "metadata": {},
   "source": [
    "# (6) Optional: What do you think is responsible for the effects observed? Can you think of an alternative or similar task that would result in a similar effect? Some research about the problem will be helpful for thinking about these two questions!"
   ]
  },
  {
   "cell_type": "markdown",
   "metadata": {},
   "source": [
    "The dorsolateral prefrontal cortex needs more time to process information prior to committing to a decision rather than recalling automatically stored data."
   ]
  }
 ],
 "metadata": {
  "kernelspec": {
   "display_name": "Python 3",
   "language": "python",
   "name": "python3"
  },
  "language_info": {
   "codemirror_mode": {
    "name": "ipython",
    "version": 3
   },
   "file_extension": ".py",
   "mimetype": "text/x-python",
   "name": "python",
   "nbconvert_exporter": "python",
   "pygments_lexer": "ipython3",
   "version": "3.6.3"
  }
 },
 "nbformat": 4,
 "nbformat_minor": 2
}
